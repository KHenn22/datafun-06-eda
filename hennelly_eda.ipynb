{
 "cells": [
  {
   "cell_type": "markdown",
   "id": "4d8ad1f2-1c3a-4024-9afa-935faa108f18",
   "metadata": {},
   "source": [
    "# Titanic Exploratory Data Analysis (EDA)\n",
    "\n",
    "**Author:** Kevin Hennelly  \n",
    "**Course:** Data Analytics Project 6 – Custom EDA  \n",
    "**Date:** September 2025  \n",
    "\n",
    "---\n",
    "\n",
    "## 1. Introduction\n",
    "This project explores the Titanic dataset using exploratory data analysis (EDA).  \n",
    "The goal is to investigate survival rates across different passenger characteristics,  \n",
    "identify meaningful patterns, and present insights with both code and visualizations.\n",
    "\n",
    "Used:\n",
    "- **Python** (pandas, matplotlib, seaborn) for data analysis and visualization.  \n",
    "- **Markdown** for narrative explanations.  \n",
    "\n",
    "This notebook demonstrates a professional workflow by mixing narrative, analysis, and visualization."
   ]
  },
  {
   "cell_type": "markdown",
   "id": "16d90da5-2e5d-4ba6-83b7-731ac45a6d02",
   "metadata": {},
   "source": [
    "### Key Findings (summary)\n",
    "\n",
    "- Overall survival rate: 38.38%.\n",
    "- By sex: females ~74.20% vs males ~18.89% (large gap).\n",
    "- By class: First ~62.96%, Second ~47.28%, Third ~24.24% (clear downward trend).\n",
    "- Travel companions: Not Alone ~50.56% vs Alone ~30.35%.\n",
    "- Embarkation: survival varies by embarkation town. Cherbourg ~55.35%, Queenstown ~38.96%, Southampton ~33.69% (see `survival_by_embark` for details).\n",
    "\n",
    "Notes: percentages are computed from the local `titanic.csv` and reflect this dataset's composition."
   ]
  },
  {
   "cell_type": "code",
   "execution_count": 2,
   "id": "9763d17f-dc3d-42b0-b2d2-45095e4e9718",
   "metadata": {
    "execution": {
     "iopub.execute_input": "2025-09-22T05:07:15.580466Z",
     "iopub.status.busy": "2025-09-22T05:07:15.580240Z",
     "iopub.status.idle": "2025-09-22T05:07:15.593032Z",
     "shell.execute_reply": "2025-09-22T05:07:15.592453Z"
    }
   },
   "outputs": [
    {
     "name": "stdout",
     "output_type": "stream",
     "text": [
      "Shape: (891, 18)\n",
      "<class 'pandas.core.frame.DataFrame'>\n",
      "RangeIndex: 891 entries, 0 to 890\n",
      "Data columns (total 18 columns):\n",
      " #   Column          Non-Null Count  Dtype   \n",
      "---  ------          --------------  -----   \n",
      " 0   survived        891 non-null    int64   \n",
      " 1   pclass          891 non-null    int64   \n",
      " 2   sex             891 non-null    object  \n",
      " 3   age             714 non-null    float64 \n",
      " 4   sibsp           891 non-null    int64   \n",
      " 5   parch           891 non-null    int64   \n",
      " 6   fare            891 non-null    float64 \n",
      " 7   embarked        889 non-null    object  \n",
      " 8   class           891 non-null    category\n",
      " 9   who             891 non-null    object  \n",
      " 10  adult_male      891 non-null    bool    \n",
      " 11  deck            203 non-null    object  \n",
      " 12  embark_town     889 non-null    object  \n",
      " 13  alive           891 non-null    object  \n",
      " 14  alone           891 non-null    bool    \n",
      " 15  survived_label  891 non-null    category\n",
      " 16  survived_num    891 non-null    int64   \n",
      " 17  alone_label     891 non-null    category\n",
      "dtypes: bool(2), category(3), float64(2), int64(5), object(6)\n",
      "memory usage: 95.3+ KB\n"
     ]
    },
    {
     "data": {
      "text/plain": [
       "deck              688\n",
       "age               177\n",
       "embark_town         2\n",
       "embarked            2\n",
       "pclass              0\n",
       "survived            0\n",
       "parch               0\n",
       "fare                0\n",
       "sibsp               0\n",
       "sex                 0\n",
       "who                 0\n",
       "class               0\n",
       "adult_male          0\n",
       "alive               0\n",
       "alone               0\n",
       "survived_label      0\n",
       "survived_num        0\n",
       "alone_label         0\n",
       "dtype: int64"
      ]
     },
     "execution_count": 2,
     "metadata": {},
     "output_type": "execute_result"
    }
   ],
   "source": [
    "print(\"Shape:\", df.shape)\n",
    "df.info()\n",
    "df.isnull().sum().sort_values(ascending=False)"
   ]
  },
  {
   "cell_type": "markdown",
   "id": "bc18deb5-25e8-44e3-ad94-ed4887cfb034",
   "metadata": {},
   "source": [
    "## 3. Summary Statistics\n",
    "Basic descriptive statistics for numeric and categorical features."
   ]
  },
  {
   "cell_type": "code",
   "execution_count": 3,
   "id": "52e2eefc-a5fe-4047-8eb4-f6eb076d5c97",
   "metadata": {
    "execution": {
     "iopub.execute_input": "2025-09-22T05:07:15.595139Z",
     "iopub.status.busy": "2025-09-22T05:07:15.594933Z",
     "iopub.status.idle": "2025-09-22T05:07:15.617720Z",
     "shell.execute_reply": "2025-09-22T05:07:15.617181Z"
    }
   },
   "outputs": [
    {
     "data": {
      "text/plain": [
       "(         survived      pclass         age       sibsp       parch        fare  \\\n",
       " count  891.000000  891.000000  714.000000  891.000000  891.000000  891.000000   \n",
       " mean     0.383838    2.308642   29.699118    0.523008    0.381594   32.204208   \n",
       " std      0.486592    0.836071   14.526497    1.102743    0.806057   49.693429   \n",
       " min      0.000000    1.000000    0.420000    0.000000    0.000000    0.000000   \n",
       " 25%      0.000000    2.000000   20.125000    0.000000    0.000000    7.910400   \n",
       " 50%      0.000000    3.000000   28.000000    0.000000    0.000000   14.454200   \n",
       " 75%      1.000000    3.000000   38.000000    1.000000    0.000000   31.000000   \n",
       " max      1.000000    3.000000   80.000000    8.000000    6.000000  512.329200   \n",
       " \n",
       "        survived_num  \n",
       " count    891.000000  \n",
       " mean       0.383838  \n",
       " std        0.486592  \n",
       " min        0.000000  \n",
       " 25%        0.000000  \n",
       " 50%        0.000000  \n",
       " 75%        1.000000  \n",
       " max        1.000000  ,\n",
       "          sex embarked  who deck  embark_town alive\n",
       " count    891      889  891  203          889   891\n",
       " unique     2        3    3    7            3     2\n",
       " top     male        S  man    C  Southampton    no\n",
       " freq     577      644  537   59          644   549)"
      ]
     },
     "execution_count": 3,
     "metadata": {},
     "output_type": "execute_result"
    }
   ],
   "source": [
    "# Numeric stats\n",
    "num_stats = df.describe()\n",
    "# Categorical stats\n",
    "cat_stats = df.describe(include=\"object\")\n",
    "num_stats, cat_stats"
   ]
  },
  {
   "cell_type": "markdown",
   "id": "32be1859-3e64-4fff-89e8-2053359c7bee",
   "metadata": {},
   "source": [
    "## 4. Data Cleaning (light-touch)\n",
    "Helper columns to handle a couple values."
   ]
  },
  {
   "cell_type": "code",
   "execution_count": 4,
   "id": "2a342c3e-e365-4917-9c7a-46472d01d800",
   "metadata": {
    "execution": {
     "iopub.execute_input": "2025-09-22T05:07:15.619863Z",
     "iopub.status.busy": "2025-09-22T05:07:15.619658Z",
     "iopub.status.idle": "2025-09-22T05:07:15.624301Z",
     "shell.execute_reply": "2025-09-22T05:07:15.623746Z"
    }
   },
   "outputs": [],
   "source": [
    "# Helper columns (these are already present in many Titanic datasets, but add if missing)\n",
    "if 'is_child' not in df.columns:\n",
    "    df['is_child'] = (df['age'] < 16).fillna(False)\n",
    "\n",
    "# Family size if sibsp/parch exist\n",
    "if {'sibsp','parch'}.issubset(df.columns):\n",
    "    df['family_size'] = df['sibsp'] + df['parch'] + 1\n",
    "\n",
    "# Standardize embarkation names (optional)\n",
    "if 'embark_town' in df.columns:\n",
    "    df['embark_town'] = df['embark_town'].fillna('Unknown')"
   ]
  },
  {
   "cell_type": "markdown",
   "id": "f4165a8b-78d7-4633-8b23-72edb19656b9",
   "metadata": {},
   "source": [
    "## 5. Survival Analysis (tabular)\n",
    "Overall survival and survival by key groups."
   ]
  },
  {
   "cell_type": "code",
   "execution_count": 24,
   "id": "6e9444b3-a05f-4faa-b842-6f6a56da8120",
   "metadata": {},
   "outputs": [
    {
     "name": "stdout",
     "output_type": "stream",
     "text": [
      "Overall survival rate: 38.38%\n"
     ]
    },
    {
     "data": {
      "text/plain": [
       "(sex\n",
       " female    0.742038\n",
       " male      0.188908\n",
       " Name: survived, dtype: float64,\n",
       " class\n",
       " First     0.629630\n",
       " Second    0.472826\n",
       " Third     0.242363\n",
       " Name: survived, dtype: float64,\n",
       " embark_town\n",
       " Cherbourg      0.553571\n",
       " Queenstown     0.389610\n",
       " Southampton    0.336957\n",
       " Name: survived, dtype: float64)"
      ]
     },
     "execution_count": 24,
     "metadata": {},
     "output_type": "execute_result"
    }
   ],
   "source": [
    "# Overall survival rate\n",
    "overall_survival = df['survived'].mean()\n",
    "print(f\"Overall survival rate: {overall_survival:.2%}\")\n",
    "\n",
    "# By sex\n",
    "survival_by_sex = df.groupby('sex')['survived'].mean().sort_values(ascending=False)\n",
    "\n",
    "# By class\n",
    "survival_by_class = (\n",
    "    df.groupby('class', observed=False)['survived']\n",
    "    .mean()\n",
    "    .sort_index()\n",
    ")\n",
    "\n",
    "# By embark town (if present)\n",
    "survival_by_embark = df.groupby('embark_town')['survived'].mean().sort_values(ascending=False)\n",
    "\n",
    "survival_by_sex, survival_by_class, survival_by_embark"
   ]
  },
  {
   "cell_type": "markdown",
   "id": "6ce1d2d5",
   "metadata": {},
   "source": [
    "## 6. Visualizations\n",
    "Quick plots to see distributions and survival patterns."
   ]
  },
  {
   "cell_type": "code",
   "execution_count": 6,
   "id": "2d8800f1-2fa4-45a0-b926-3fb74d52e386",
   "metadata": {
    "execution": {
     "iopub.execute_input": "2025-09-22T05:07:15.636572Z",
     "iopub.status.busy": "2025-09-22T05:07:15.636368Z",
     "iopub.status.idle": "2025-09-22T05:07:15.642753Z",
     "shell.execute_reply": "2025-09-22T05:07:15.642281Z"
    }
   },
   "outputs": [
    {
     "name": "stdout",
     "output_type": "stream",
     "text": [
      "Unique labels: ['No' 'Yes']\n",
      "Any NaN in survived_num? False\n"
     ]
    }
   ],
   "source": [
    "import numpy as np\n",
    "\n",
    "# Create BOTH a labeled and numeric version of survived, no matter its current type\n",
    "vals = set(pd.Series(df['survived']).astype(str).str.strip().unique())\n",
    "\n",
    "if vals.issubset({'0','1'}):\n",
    "    # Currently numeric 0/1\n",
    "    df['survived_label'] = df['survived'].map({0:'No', 1:'Yes'})\n",
    "    df['survived_num']   = df['survived'].astype(int)\n",
    "elif vals.issubset({'No','Yes','no','yes','NO','YES'}):\n",
    "    # Currently strings\n",
    "    df['survived_label'] = df['survived'].str.capitalize()\n",
    "    df['survived_num']   = df['survived_label'].map({'No':0, 'Yes':1})\n",
    "else:\n",
    "    # Fallback: try to coerce\n",
    "    df['survived_label'] = pd.Series(df['survived']).map({0:'No',1:'Yes'}).fillna('No')\n",
    "    df['survived_num']   = pd.Series(df['survived']).map({'No':0,'Yes':1,0:0,1:1}).fillna(0).astype(int)\n",
    "\n",
    "print(\"Unique labels:\", df['survived_label'].unique())\n",
    "print(\"Any NaN in survived_num?\", df['survived_num'].isna().any())"
   ]
  },
  {
   "cell_type": "markdown",
   "id": "664ce5bc",
   "metadata": {},
   "source": [
    "### 6.1 Survival Count (labels)\n",
    "Count of survived labels (No / Yes)."
   ]
  },
  {
   "cell_type": "code",
   "execution_count": 7,
   "id": "c7beac35",
   "metadata": {
    "execution": {
     "iopub.execute_input": "2025-09-22T05:07:15.644660Z",
     "iopub.status.busy": "2025-09-22T05:07:15.644469Z",
     "iopub.status.idle": "2025-09-22T05:07:15.752912Z",
     "shell.execute_reply": "2025-09-22T05:07:15.752290Z"
    }
   },
   "outputs": [
    {
     "data": {
      "image/png": "[encoded data removed]",
      "text/plain": [
       "<Figure size 640x480 with 1 Axes>"
      ]
     },
     "metadata": {},
     "output_type": "display_data"
    }
   ],
   "source": [
    "sns.countplot(x='survived_label', data=df, order=['No','Yes'])\n",
    "plt.title(\"Survival Count\")\n",
    "plt.xlabel(\"Survived\")\n",
    "plt.ylabel(\"Count\")\n",
    "plt.show()"
   ]
  },
  {
   "cell_type": "markdown",
   "id": "455327d4",
   "metadata": {},
   "source": [
    "### 6.2 Survival Rate by Sex\n",
    "Bar chart showing survival rate for male vs female."
   ]
  },
  {
   "cell_type": "code",
   "execution_count": 8,
   "id": "de17ccb9",
   "metadata": {
    "execution": {
     "iopub.execute_input": "2025-09-22T05:07:15.755082Z",
     "iopub.status.busy": "2025-09-22T05:07:15.754872Z",
     "iopub.status.idle": "2025-09-22T05:07:15.892718Z",
     "shell.execute_reply": "2025-09-22T05:07:15.892222Z"
    }
   },
   "outputs": [
    {
     "data": {
      "image/png": "[encoded data removed]",
      "text/plain": [
       "<Figure size 640x480 with 1 Axes>"
      ]
     },
     "metadata": {},
     "output_type": "display_data"
    }
   ],
   "source": [
    "sns.barplot(x='sex', y='survived_num', data=df, order=['male','female'])\n",
    "plt.title(\"Survival Rate by Sex\")\n",
    "plt.xlabel(\"Sex\")\n",
    "plt.ylabel(\"Survival Rate\")\n",
    "plt.gca().yaxis.set_major_formatter(PercentFormatter(1))\n",
    "plt.show()"
   ]
  },
  {
   "cell_type": "markdown",
   "id": "3ca46364",
   "metadata": {},
   "source": [
    "### 6.3 Survival Rate by Class\n",
    "Bar chart showing survival rate across First/Second/Third class."
   ]
  },
  {
   "cell_type": "code",
   "execution_count": 9,
   "id": "9b3b29c4",
   "metadata": {
    "execution": {
     "iopub.execute_input": "2025-09-22T05:07:15.894629Z",
     "iopub.status.busy": "2025-09-22T05:07:15.894449Z",
     "iopub.status.idle": "2025-09-22T05:07:16.048367Z",
     "shell.execute_reply": "2025-09-22T05:07:16.047695Z"
    }
   },
   "outputs": [
    {
     "data": {
      "image/png": "[encoded data removed]",
      "text/plain": [
       "<Figure size 640x480 with 1 Axes>"
      ]
     },
     "metadata": {},
     "output_type": "display_data"
    }
   ],
   "source": [
    "sns.barplot(x='class', y='survived_num', data=df, order=['First','Second','Third'])\n",
    "plt.title(\"Survival Rate by Class\")\n",
    "plt.xlabel(\"Passenger Class\")\n",
    "plt.ylabel(\"Survival Rate\")\n",
    "plt.gca().yaxis.set_major_formatter(PercentFormatter(1))\n",
    "plt.show()"
   ]
  },
  {
   "cell_type": "markdown",
   "id": "5e4e8f69",
   "metadata": {},
   "source": [
    "### 6.4 Survival Rate: Alone vs Not Alone\n",
    "Bar chart comparing survival for passengers alone vs not alone."
   ]
  },
  {
   "cell_type": "code",
   "execution_count": 10,
   "id": "32899bf5",
   "metadata": {
    "execution": {
     "iopub.execute_input": "2025-09-22T05:07:16.050647Z",
     "iopub.status.busy": "2025-09-22T05:07:16.050469Z",
     "iopub.status.idle": "2025-09-22T05:07:16.180749Z",
     "shell.execute_reply": "2025-09-22T05:07:16.180203Z"
    }
   },
   "outputs": [
    {
     "data": {
      "image/png": "[encoded data removed]",
      "text/plain": [
       "<Figure size 640x480 with 1 Axes>"
      ]
     },
     "metadata": {},
     "output_type": "display_data"
    }
   ],
   "source": [
    "sns.barplot(x='alone_label', y='survived_num', data=df, order=['Not Alone','Alone'])\n",
    "plt.title(\"Survival Rate: Alone vs Not Alone\")\n",
    "plt.xlabel(\"Passenger Status\")\n",
    "plt.ylabel(\"Survival Rate\")\n",
    "plt.gca().yaxis.set_major_formatter(PercentFormatter(1))\n",
    "plt.show()"
   ]
  },
  {
   "cell_type": "code",
   "execution_count": 11,
   "id": "7670a67a-1393-40b6-b117-fbdb08d88d79",
   "metadata": {
    "execution": {
     "iopub.execute_input": "2025-09-22T05:07:16.182959Z",
     "iopub.status.busy": "2025-09-22T05:07:16.182783Z",
     "iopub.status.idle": "2025-09-22T05:07:16.186937Z",
     "shell.execute_reply": "2025-09-22T05:07:16.186356Z"
    }
   },
   "outputs": [],
   "source": [
    "# --- Imports & style for this cell ---\n",
    "import matplotlib.pyplot as plt\n",
    "import seaborn as sns\n",
    "from matplotlib.ticker import PercentFormatter\n",
    "plt.rcParams['figure.figsize'] = (7, 4)\n",
    "\n",
    "# --- Ensure helper columns exist (safe no-ops if already created) ---\n",
    "# survived_num: numeric 0/1 for rate charts\n",
    "if 'survived_num' not in df.columns:\n",
    "    if df['survived'].dtype == 'O':  # strings like \"No\"/\"Yes\",\n",
    "        df['survived_num'] = df['survived'].str.capitalize().map({'No':0,'Yes':1})\n",
    "    else:  # numeric 0/1\n",
    "        df['survived_num'] = df['survived'].astype(int)\n",
    "\n",
    "# survived_label: \"No\"/\"Yes\" for count chart\n",
    "if 'survived_label' not in df.columns:\n",
    "    df['survived_label'] = df['survived'].map({0:'No',1:'Yes'}) if df['survived'].dtype!='O' \\\n",
    "                           else df['survived'].str.capitalize()\n",
    "\n",
    "# alone_label: \"Not Alone\"/\"Alone\" for readability\n",
    "if 'alone_label' not in df.columns and 'alone' in df.columns:\n",
    "    df['alone_label'] = df['alone'].map({False:'Not Alone', True:'Alone'})\n",
    "\n",
    "# (Plotting moved to dedicated 6.1-6.4 cells below)"
   ]
  },
  {
   "cell_type": "markdown",
   "id": "76bf418c-f827-40d7-9b60-b911dd6770fa",
   "metadata": {},
   "source": [
    "### 6.5 Age and Survival\n",
    "Do children or certain age bands have better outcomes?"
   ]
  },
  {
   "cell_type": "code",
   "execution_count": 12,
   "id": "77609a6e-782b-499e-b8d9-2f7e4e656b72",
   "metadata": {
    "execution": {
     "iopub.execute_input": "2025-09-22T05:07:16.188966Z",
     "iopub.status.busy": "2025-09-22T05:07:16.188787Z",
     "iopub.status.idle": "2025-09-22T05:07:16.298869Z",
     "shell.execute_reply": "2025-09-22T05:07:16.298401Z"
    }
   },
   "outputs": [
    {
     "data": {
      "image/png": "[encoded data removed]",
      "text/plain": [
       "<Figure size 700x400 with 1 Axes>"
      ]
     },
     "metadata": {},
     "output_type": "display_data"
    },
    {
     "name": "stdout",
     "output_type": "stream",
     "text": [
      "age\n",
      "[0, 10)     0.612903\n",
      "[10, 20)    0.401961\n",
      "[20, 30)    0.350000\n",
      "[30, 40)    0.437126\n",
      "[40, 50)    0.382022\n",
      "[50, 60)    0.416667\n",
      "[60, 80)    0.240000\n",
      "Name: survived, dtype: float64\n"
     ]
    }
   ],
   "source": [
    "# Boxplot age vs survived\n",
    "sns.boxplot(x=\"survived\", y=\"age\", data=df)\n",
    "plt.title(\"Age vs Survival\")\n",
    "plt.show()\n",
    "\n",
    "# Optional: age bands\n",
    "age_bins = pd.cut(df['age'], bins=[0,10,20,30,40,50,60,80], right=False)\n",
    "age_band_survival = df.groupby(age_bins, observed=False)['survived'].mean()\n",
    "\n",
    "# Display survival rates by age band\n",
    "print(age_band_survival)"
   ]
  },
  {
   "cell_type": "markdown",
   "id": "038cd542-cdcf-41af-bd37-845fc3ceeeef",
   "metadata": {},
   "source": [
    "### 6.6 Traveling Alone or Not\n",
    "The dataset includes an `alone` column that indicates whether a passenger was traveling solo.  \n",
    "We can compare survival rates between passengers who were alone versus those with family."
   ]
  },
  {
   "cell_type": "code",
   "execution_count": 27,
   "id": "990f9494-686f-4456-95c8-aba3b839e6ea",
   "metadata": {},
   "outputs": [
    {
     "name": "stdout",
     "output_type": "stream",
     "text": [
      "Survival Rate by Alone Status:\n",
      "Not Alone    0.505650\n",
      "Alone        0.303538\n",
      "Name: survived, dtype: float64\n"
     ]
    }
   ],
   "source": [
    "# Survival rates by alone status\n",
    "survival_by_alone = (\n",
    "    df.groupby('alone')['survived']\n",
    "    .mean()\n",
    "    .rename(index={False: 'Not Alone', True: 'Alone'})\n",
    "    .rename_axis(None)   # removes the \"alone\" label above the index\n",
    ")\n",
    "\n",
    "print(\"Survival Rate by Alone Status:\")\n",
    "print(survival_by_alone)"
   ]
  },
  {
   "cell_type": "markdown",
   "id": "d4d5c7e3-4c13-4f8d-a3e1-1ba9cba68bed",
   "metadata": {},
   "source": [
    "### 6.7 Multivariate View\n",
    "Combine sex and class to see interaction effects."
   ]
  },
  {
   "cell_type": "code",
   "execution_count": 23,
   "id": "2e69addd-7187-4cd3-9fb2-1e23ed6f06be",
   "metadata": {},
   "outputs": [
    {
     "data": {
      "text/html": [
       "<div>\n",
       "<style scoped>\n",
       "    .dataframe tbody tr th:only-of-type {\n",
       "        vertical-align: middle;\n",
       "    }\n",
       "\n",
       "    .dataframe tbody tr th {\n",
       "        vertical-align: top;\n",
       "    }\n",
       "\n",
       "    .dataframe thead th {\n",
       "        text-align: right;\n",
       "    }\n",
       "</style>\n",
       "<table border=\"1\" class=\"dataframe\">\n",
       "  <thead>\n",
       "    <tr style=\"text-align: right;\">\n",
       "      <th>class</th>\n",
       "      <th>First</th>\n",
       "      <th>Second</th>\n",
       "      <th>Third</th>\n",
       "    </tr>\n",
       "    <tr>\n",
       "      <th>sex</th>\n",
       "      <th></th>\n",
       "      <th></th>\n",
       "      <th></th>\n",
       "    </tr>\n",
       "  </thead>\n",
       "  <tbody>\n",
       "    <tr>\n",
       "      <th>female</th>\n",
       "      <td>0.968085</td>\n",
       "      <td>0.921053</td>\n",
       "      <td>0.500000</td>\n",
       "    </tr>\n",
       "    <tr>\n",
       "      <th>male</th>\n",
       "      <td>0.368852</td>\n",
       "      <td>0.157407</td>\n",
       "      <td>0.135447</td>\n",
       "    </tr>\n",
       "  </tbody>\n",
       "</table>\n",
       "</div>"
      ],
      "text/plain": [
       "class      First    Second     Third\n",
       "sex                                 \n",
       "female  0.968085  0.921053  0.500000\n",
       "male    0.368852  0.157407  0.135447"
      ]
     },
     "execution_count": 23,
     "metadata": {},
     "output_type": "execute_result"
    }
   ],
   "source": [
    "pivot_sex_class = df.pivot_table(\n",
    "    values='survived',\n",
    "    index='sex',\n",
    "    columns='class',\n",
    "    aggfunc='mean',\n",
    "    observed=False  # keeps current behavior, removes warning\n",
    ")\n",
    "\n",
    "pivot_sex_class"
   ]
  },
  {
   "cell_type": "markdown",
   "id": "e4cc0fb4-587b-48e0-b94d-83a205562c8e",
   "metadata": {},
   "source": [
    "## 7. Key Findings\n",
    "Summary of the most important insights discovered."
   ]
  },
  {
   "cell_type": "markdown",
   "id": "6c730cc9-4180-4661-a4b1-68b86324e990",
   "metadata": {},
   "source": [
    "### Key Findings (summary)\n",
    "- Overall survival rate for the Titanic is approximately 38.38%.\n",
    "- Survival differs strongly by sex: females survived at ~74.20% vs males at ~18.89% (see `survived` by `sex`).\n",
    "- Passenger class is predictive: First-class passengers survived at ~62.96%, Second-class at ~47.28%, and Third-class at ~24.24% (see `survived` by `class`).\n",
    "- Travel companions: passengers NOT alone survived at ~50.56% compared with ~30.35% for those marked as alone (see `alone`).\n",
    "- Embarkation differences: survival rates vary by `embark_town` (Cherbourg ~55.35%, Queenstown ~38.96%, Southampton ~33.69%) — see the `survival_by_embark` table for details.  Hypothesis is that a greater number of higher surviving categories (i.e. females, first class) embarked from Cherbourg (highest survival) vs Southampton (lowest survival).  Additional analysis would need done to determine what, if any, correlation exists.\n",
    "- Females in first and second class survived at very high rates, ~96.8% and ~92.1% respectively.\n",
    "\n"
   ]
  },
  {
   "cell_type": "markdown",
   "id": "0864e9a3-6ce0-42c1-a5f9-1a8498925bc8",
   "metadata": {},
   "source": [
    "## 8. Collaboration & Workflow Notes\n",
    "- Mixed **Markdown** (narrative) and **Code** (analysis) throughout.\n",
    "- Re-ran the notebook end-to-end to ensure reproducibility.\n",
    "- Saved and pushed to GitHub."
   ]
  },
  {
   "cell_type": "code",
   "execution_count": 15,
   "id": "14d3d581-5acd-47b0-81de-6e5af363a093",
   "metadata": {
    "execution": {
     "iopub.execute_input": "2025-09-22T05:07:16.320281Z",
     "iopub.status.busy": "2025-09-22T05:07:16.320046Z",
     "iopub.status.idle": "2025-09-22T05:07:16.323095Z",
     "shell.execute_reply": "2025-09-22T05:07:16.322524Z"
    }
   },
   "outputs": [
    {
     "name": "stdout",
     "output_type": "stream",
     "text": [
      "\n",
      "In your TERMINAL (not in the notebook):\n",
      "\n",
      "git add .\n",
      "git commit -m \"Complete Titanic EDA with visuals and conclusions\"\n",
      "git push\n",
      "\n"
     ]
    }
   ],
   "source": [
    "# (No-op cell, just a reminder of Git steps — run these in your terminal, not here)\n",
    "print(\"\"\"\n",
    "In your TERMINAL (not in the notebook):\n",
    "\n",
    "git add .\n",
    "git commit -m \"Complete Titanic EDA with visuals and conclusions\"\n",
    "git push\n",
    "\"\"\")"
   ]
  }
 ],
 "metadata": {
  "kernelspec": {
   "display_name": ".venv",
   "language": "python",
   "name": "python3"
  },
  "language_info": {
   "codemirror_mode": {
    "name": "ipython",
    "version": 3
   },
   "file_extension": ".py",
   "mimetype": "text/x-python",
   "name": "python",
   "nbconvert_exporter": "python",
   "pygments_lexer": "ipython3",
   "version": "3.13.7"
  }
 },
 "nbformat": 4,
 "nbformat_minor": 5
}
